{
 "cells": [
  {
   "cell_type": "code",
   "execution_count": 1,
   "metadata": {},
   "outputs": [],
   "source": [
    "import pandas as pd\n",
    "from pathlib import Path\n",
    "from fiona.crs import from_epsg\n",
    "from fiona import open as fopen\n",
    "from shapely.geometry import Point, LineString\n",
    "import ast"
   ]
  },
  {
   "cell_type": "code",
   "execution_count": 2,
   "metadata": {},
   "outputs": [],
   "source": [
    "porto_csv_path = Path('./data/sources/porto/train.csv')\n",
    "df = pd.read_csv(porto_csv_path)"
   ]
  },
  {
   "cell_type": "code",
   "execution_count": 3,
   "metadata": {},
   "outputs": [],
   "source": [
    "min_two_points_mask = df[\"POLYLINE\"].str.count(\",\") > 1\n",
    "point_filter_df = df[min_two_points_mask]"
   ]
  },
  {
   "cell_type": "code",
   "execution_count": 4,
   "metadata": {},
   "outputs": [],
   "source": [
    "schema = {\n",
    "    'geometry': 'LineString',\n",
    "    'properties': {\n",
    "        'trip_id': 'int',\n",
    "        'call_type': 'str:80',\n",
    "        # 'origin_call': 'float:24.5',\n",
    "        # 'origin_stand': 'float:24.5',\n",
    "        'taxi_id': 'int',\n",
    "        'timestamp': 'int',\n",
    "        'day_type': 'str:80',\n",
    "        'missing_data': 'int',\n",
    "    }\n",
    "}\n",
    "\n",
    "porto_output_path = Path('./data/generated/porto/shp').resolve()\n",
    "\n",
    "def append_to_shp(row, shp):\n",
    "    polyline = ast.literal_eval(row['POLYLINE'])\n",
    "    line_string = LineString(polyline)\n",
    "    shp.write({\n",
    "        'geometry': {\n",
    "            'type': 'LineString',\n",
    "            'coordinates': line_string.coords,\n",
    "        },\n",
    "        'properties': {\n",
    "            'trip_id': row['TRIP_ID'],\n",
    "            'call_type': row['CALL_TYPE'],\n",
    "            # 'origin_call': row['ORIGINAL_CALL'],\n",
    "            # 'origin_stand': row['ORIGIN_STAND'],\n",
    "            'taxi_id': row['TAXI_ID'],\n",
    "            'timestamp': row['TIMESTAMP'],\n",
    "            'day_type': row['DAY_TYPE'],\n",
    "            'missing_data': row['MISSING_DATA'],\n",
    "        }\n",
    "    })  \n",
    "    "
   ]
  },
  {
   "cell_type": "code",
   "execution_count": 5,
   "metadata": {},
   "outputs": [],
   "source": [
    "with fopen(porto_output_path, 'w', driver='ESRI Shapefile', crs=from_epsg(4326), schema=schema) as shp:\n",
    "    point_filter_df.apply(append_to_shp, shp=shp, axis=1)"
   ]
  },
  {
   "cell_type": "code",
   "execution_count": 6,
   "metadata": {},
   "outputs": [
    {
     "data": {
      "text/plain": [
       "'2.134%'"
      ]
     },
     "execution_count": 6,
     "metadata": {},
     "output_type": "execute_result"
    }
   ],
   "source": [
    "# How much percentage of trips were filtered out\n",
    "explore_one_point_dfs = df[~min_two_points_mask]\n",
    "ratio = explore_one_point_dfs.shape[0] / df.shape[0]\n",
    "f\"{round(ratio * 100, 3)}%\""
   ]
  }
 ],
 "metadata": {
  "kernelspec": {
   "display_name": "master-trOn8qBS-py3.10",
   "language": "python",
   "name": "python3"
  },
  "language_info": {
   "codemirror_mode": {
    "name": "ipython",
    "version": 3
   },
   "file_extension": ".py",
   "mimetype": "text/x-python",
   "name": "python",
   "nbconvert_exporter": "python",
   "pygments_lexer": "ipython3",
   "version": "3.10.12"
  }
 },
 "nbformat": 4,
 "nbformat_minor": 2
}
